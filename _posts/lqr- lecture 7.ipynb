{
 "cells": [
  {
   "cell_type": "markdown",
   "id": "d368cb4d",
   "metadata": {},
   "source": [
    "# 1. LQR问题及解法"
   ]
  },
  {
   "cell_type": "markdown",
   "id": "099b0d40",
   "metadata": {
    "ExecuteTime": {
     "end_time": "2023-11-05T07:50:38.100805Z",
     "start_time": "2023-11-05T07:50:38.008818Z"
    }
   },
   "source": [
    "## 1.1 连续LQR问题\n",
    "LQR（线性二次型调节器）问题是一种控制问题，通常可以用下面的数学描述\n",
    "考虑一个具有动态方程的线性系统：\n",
    "$$ \\dot{x} = A(t)x + B(t)u \\tag{1}$$\n",
    "其中，$A(t)$是状态方程，$B(t)$是输入矩阵\n",
    "LQR问题的**目标**是找到一个控制输入$u$, 从未能最小化一下性能指标，通常叫做成本函数或者代价函数：\n",
    "$$ \\begin{align}\\operatorname*{arg min}_{x \\in X, u \\in U} J &= \\operatorname*{arg min}_{x \\in X, u \\in U} \\int_0^\\infty (x^TQx + u^TRu)\\text{d}t \\\\  \\quad \\text{subject to} \\quad \\ \\dot{x}&=A(t)x+B(t)u\n",
    "\\end{align} \\tag{2}$$\n",
    "其中，$Q$为状态权重矩阵，$R$为控制输入权重矩阵，\n"
   ]
  },
  {
   "cell_type": "markdown",
   "id": "9ad921de",
   "metadata": {},
   "source": [
    "## 1.2 离散LQR问题\n",
    "以上的描述形式是针对连续系统的LQR问题描述，并且是一个无限时裕的LQR问题。考虑离散LQR问题，可以写成：\n",
    "$$\\begin{align} \\operatorname*{arg min}_{x \\in X, u \\in U} J(x, u) &=\\operatorname*{arg min}_{x \\in X, u \\in U} \\sum_{k=1}^{N-1}(\\frac{1}{2}x_k^TQx_k + \\frac{1}{2}u_k^TRu_k) + \\frac{1}{2} x_N^TQ_Nx_n \\\\  \\quad \\text{subject to} \\quad x_{k+1} &= A_dx_k + B_du_k, k = 1, \\ldots, N-1 \\end{align}\\tag{3}$$\n",
    "有限时域LQR问题的**目标**是找到控制输入序列$u_1, \\ldots, u_{N-1}$, 最小化（3）中的代价函数\n",
    "其中，$A_d$为离散系统的状态矩阵， $B_d$为离散系统的控制矩阵\n",
    "注意(3)相比(2)多了一个终端代价项。\n",
    "\n",
    "LQR问题的代价函数\n",
    "$$ J(x, u) = \\sum_{k=1}^{N-1}(\\frac{1}{2}x_k^TQx_k + \\frac{1}{2}u_k^TRu_k) + \\frac{1}{2} x_N^TQ_Nx_n $$\n",
    "其中状态代价的为：$l(x_k, u_k) = \\frac{1}{2}x_k^TQx_k + \\frac{1}{2}u_k^TRu_k$\n",
    "\n",
    "终端代价为：$l_f(x_N) = \\frac{1}{2} x_N^TQ_Nx_n$\n",
    "\n",
    "$Q$矩阵必须是正定的，不然系统是不可控的。问题的目标是系统回到原点（时不变LQR）或者跟踪上给定的参考轨迹（时变LQR）假设$R$不是镇定的，如$R$是零矩阵，那么控制器要做的就是把控制输入拉大无穷大，但是并不会使系统回到原定，因此问题是病态的，因此$R$必须是正定的。\n",
    "\n",
    "- 一般地，时不变LQR用于将系统状态转移回平衡点，时变LQR用于跟随轨迹\n",
    "- LQR可以用于局部近似许多非线性问题，在这些问题局部使用LQR可以取得一个不错的效果\n",
    "- 有许多种LQR的扩展，如无限时域LQR，随机LQR(stochastic LQR).\n",
    "- 被叫做，控制理论的皇冠明珠（It's been called the crown jewel of control theory）\n"
   ]
  },
  {
   "cell_type": "markdown",
   "id": "6937ab81",
   "metadata": {},
   "source": [
    "# 2. Indirect/Shooting方法求解LQR问题\n",
    "\n",
    "通过庞特里亚金极小原理（Pontryagin's Minimum Principle）。将LQR问题带入到PMP中，可以得到\n",
    "$$\\begin{align} x_{k+1} &= A_dx_k + B_du_k, \\\\\n",
    "   \\lambda_k &= Qx_k + A_d^T\\lambda_{k+1}, \\lambda_N=Qx_n \\\\\n",
    "   u_k &= -R^{-1}B_d^T\\lambda_{k+1} \\end{align} \\tag{4}$$\n",
    "\n",
    "通过上面的公式可以观察到，可以通过前向rollout一条轨迹，并通过方向backtrace出来$\\lambda$和 $\\Delta u$。具体步骤如下：\n",
    "\n",
    "1. 首先构造一条控制$u$的初始轨迹；\n",
    "2. 根据初始状态$x_1$, 利用公式(4)中的第一个公式，前向rollout出来一条状态轨迹$x_{1:N}$;\n",
    "3. 通过（4）中的第二个和第三个公式，从$N$时刻开始，backtrace出来$\\lambda_{2:N}$和 $\\Delta u$\n",
    "4. 通过线搜索，前向模拟更新$x_{1:N}$并更新$u_{1:N-1}$\n",
    "5. 进入3.中一直到$\\Delta u$收敛"
   ]
  },
  {
   "cell_type": "markdown",
   "id": "64e78f57",
   "metadata": {},
   "source": [
    "## 2.1 Example: Shooting Method for LQR\n",
    "**系统状态方程**\n",
    "\n",
    "下面通过python来定义一个LQR问题\n",
    "这是一个二阶系统，状态方程为：\n",
    "$$\\dot{x} = \\begin{bmatrix}\\dot{q} \\\\ \\ddot{q} \\end{bmatrix} = \\begin{bmatrix} 0 & 1 \\\\ 0 & 0 \\end{bmatrix} \\begin{bmatrix} q \\\\ \\dot{q} \\end{bmatrix} + \\begin{bmatrix} 0 \\\\ 1 \\end{bmatrix}u \\tag{5}$$\n",
    "可以将系统精确离散化，得到\n",
    "$$ x_{k+1} = A_dx_k + B_du_k \\tag{6}$$\n",
    "其中，$A_d=\\begin{bmatrix}1 & h \\\\ 0 & 1\\end{bmatrix}$, $B_d=\\begin{bmatrix} \\frac{1}{2}h^2 \\\\ h \\end{bmatrix}$\n",
    "\n",
    "\n",
    "下面利用Shooting方法来求解一个LQR问题。"
   ]
  },
  {
   "cell_type": "code",
   "execution_count": 1,
   "id": "1b9ef336",
   "metadata": {},
   "outputs": [],
   "source": [
    "import numpy as np\n",
    "from matplotlib import pyplot as plt\n",
    "\n",
    "# Discrete dynamics\n",
    "h = 0.1   # time step\n",
    "A = np.array([[1, h], [0.0, 1.0]])\n",
    "B = np.array([0.5 * h**2, h])\n",
    "n = 2     # number of state\n",
    "m = 1     # number of controls\n",
    "Tfinal = 5.0 # final time\n",
    "N = int(Tfinal / h) + 1\n",
    "\n",
    "x0 = [1.0, 1.0]\n",
    "# Cost weights\n",
    "Q = np.identity(len(x0))\n",
    "R = 0.1 #Array(1.0*I(1))\n",
    "Qn = 0.5*  np.identity(len(x0))"
   ]
  },
  {
   "cell_type": "markdown",
   "id": "1ff5c7ff",
   "metadata": {},
   "source": [
    "#### 定义LQR问题的代价函数"
   ]
  },
  {
   "cell_type": "code",
   "execution_count": 2,
   "id": "61e0f013",
   "metadata": {},
   "outputs": [],
   "source": [
    "def J(xhist, uhist):\n",
    "    cost = 0.5 * np.dot(np.dot(xhist[-1], Qn), xhist[-1])\n",
    "    for i in range(len(xhist) - 1):\n",
    "        cost += 0.5 * np.dot(np.dot(xhist[i], Q), xhist[i]) + 0.5 * np.dot(np.dot(uhist[i], R), uhist[i])\n",
    "    return cost"
   ]
  },
  {
   "cell_type": "markdown",
   "id": "0d371366",
   "metadata": {},
   "source": [
    "#### 根据（4）中第一个公式实现rollout"
   ]
  },
  {
   "cell_type": "code",
   "execution_count": 3,
   "id": "abd86730cd872cc7",
   "metadata": {
    "ExecuteTime": {
     "end_time": "2023-11-05T07:50:38.112284Z",
     "start_time": "2023-11-05T07:50:38.031416Z"
    }
   },
   "outputs": [],
   "source": [
    "b = 1e-2 #line search tolerance\n",
    "def rollout(xhist, uhist, Ad, Bd):\n",
    "    xnew = np.zeros_like(xhist)\n",
    "    xnew[0] = xhist[0]\n",
    "    for k in range(N - 1):\n",
    "        xnew[k+1] = np.dot(Ad, xnew[k]) + np.dot(Bd, uhist[k])\n",
    "    return xnew\n",
    "\n",
    "def shooting(x0, Ad, Bd):\n",
    "    iter = 0\n",
    "    alpha = 1.0\n",
    "    uhist = np.zeros(N - 1) # init 控制轨迹\n",
    "    xhist = np.zeros((N, len(x0)))\n",
    "    xhist[0] = x0\n",
    "    xhist = rollout(xhist, uhist, Ad, Bd) # rollout出一条init状态轨迹\n",
    "    lambda_hist = np.zeros((N,n)) # lambda 轨迹\n",
    "    du=np.ones(N-1)\n",
    "    while np.linalg.norm(du) > 1e-2:\n",
    "        lambda_hist[-1] = np.dot(Qn, xhist[-1])\n",
    "        for k in range(N-2, -1, -1):\n",
    "            du[k] = - 1.0 / R * np.dot(Bd.T, lambda_hist[k+1]) - uhist[k]\n",
    "            lambda_hist[k] = np.dot(Q, xhist[k]) + np.dot(Ad.T, lambda_hist[k+1])\n",
    "        # forward line search to compute x\n",
    "        unew = uhist + alpha * du\n",
    "        xnew = rollout(xhist, unew, Ad, Bd)\n",
    "        while J(xnew, unew) > J(xhist, uhist) - alpha * b * np.dot(du, du):\n",
    "            alpha = 0.5 * alpha\n",
    "            unew = uhist + alpha * du\n",
    "            xnew=rollout(xhist, unew, Ad, Bd)\n",
    "        \n",
    "        uhist = unew\n",
    "        xhist = xnew\n",
    "        iter = iter + 1\n",
    "    return xhist, uhist, iter    "
   ]
  },
  {
   "cell_type": "code",
   "execution_count": 4,
   "id": "bf8864b0",
   "metadata": {},
   "outputs": [
    {
     "name": "stdout",
     "output_type": "stream",
     "text": [
      "2360\n"
     ]
    }
   ],
   "source": [
    "xhist, uhist, iter = shooting(x0=x0, Ad=A, Bd=B)\n",
    "print(iter)\n",
    "thist = np.linspace(0, Tfinal, N)"
   ]
  },
  {
   "cell_type": "code",
   "execution_count": 5,
   "id": "85f19d91",
   "metadata": {},
   "outputs": [
    {
     "data": {
      "text/plain": [
       "<matplotlib.legend.Legend at 0x7f98d808bfd0>"
      ]
     },
     "execution_count": 5,
     "metadata": {},
     "output_type": "execute_result"
    },
    {
     "data": {
      "image/png": "[encoded data removed]",
      "text/plain": [
       "<Figure size 432x288 with 1 Axes>"
      ]
     },
     "metadata": {
      "needs_background": "light"
     },
     "output_type": "display_data"
    }
   ],
   "source": [
    "plt.plot(thist, xhist[:, 0], label=r'$q$')\n",
    "plt.plot(thist, xhist[:, 1], label=r'$\\dot{q}$')\n",
    "\n",
    "plt.xlabel(\"Time\")\n",
    "plt.legend()\n"
   ]
  },
  {
   "cell_type": "code",
   "execution_count": 6,
   "id": "a644b91ae82b546",
   "metadata": {
    "ExecuteTime": {
     "end_time": "2023-11-05T07:56:22.205695Z",
     "start_time": "2023-11-05T07:56:22.193871Z"
    }
   },
   "outputs": [
    {
     "data": {
      "text/plain": [
       "<matplotlib.legend.Legend at 0x7f98d80af220>"
      ]
     },
     "execution_count": 6,
     "metadata": {},
     "output_type": "execute_result"
    },
    {
     "data": {
      "image/png": "[encoded data removed]",
      "text/plain": [
       "<Figure size 432x288 with 1 Axes>"
      ]
     },
     "metadata": {
      "needs_background": "light"
     },
     "output_type": "display_data"
    }
   ],
   "source": [
    "plt.plot(thist[0:N-1], uhist, label='control')\n",
    "plt.xlabel(\"Time\")\n",
    "plt.legend()"
   ]
  },
  {
   "cell_type": "markdown",
   "id": "0a5fadec",
   "metadata": {},
   "source": [
    "由图可以看出来，随着时间推移，系统逐渐达到了平衡位置，此时输入的控制也达到了最小，逐渐趋近于0.\n",
    "\n",
    "从上面的例子可以看出来，用shooting的方法求解一个LQR问题竟然循环了**2062**次。因此，shooting方法是一种相对比较低效的求解方法。这种方法也随着时代逐渐过时了。"
   ]
  },
  {
   "cell_type": "markdown",
   "id": "149c9c2a",
   "metadata": {
    "ExecuteTime": {
     "end_time": "2023-11-05T07:56:24.621741Z",
     "start_time": "2023-11-05T07:56:24.603799Z"
    }
   },
   "source": [
    "# 3. LQR问题的QP解法"
   ]
  },
  {
   "cell_type": "markdown",
   "id": "8b8ee656",
   "metadata": {},
   "source": [
    "可以将LQR问题构造成QP问题求解。假设给定了初始状态（$x1$是已知的，不是决策变量）。可以将状态量，控制量堆叠起来，构造一个优化变量$z$. $z \\in \\mathbb{R}^{(n+m)(N-1) \\times 1}$的形式如下：\n",
    "$$ z = \\begin{bmatrix} u_1 \\\\ x_2 \\\\ u_2 \\\\ x_3 \\\\ \\vdots \\\\ u_{N-1} \\\\ x_{N} \\end{bmatrix} \\tag{7}$$\n",
    "其中:$n$为状态维度，$m$为控制量的维度， $N$为控制horizon    \n",
    "    \n",
    "接着可以定义$H \\in \\mathbb{R}^{(n+m)(N-1) \\times (n+m)(N-1)}$矩阵：\n",
    "$$H = \\begin{bmatrix} R & 0 & \\ldots & 0 \\\\\n",
    "                      0 & Q & \\ldots & 0 \\\\ \n",
    "                      \\vdots & \\vdots & \\ddots & \\vdots \\\\\n",
    "                      0 & \\ldots & R & 0 \\\\\n",
    "                      0 & \\ldots & \\ldots & Q_n \\\\\n",
    "                \\end{bmatrix} \\tag{8}$$\n",
    "                \n",
    "因此，recall (3) 可以将LQR问题中代价函数写成$  J(z) =  \\frac{1}{2} z^T H z $. 接着，需要改写系统状态方程，定义矩阵$C \\in \\mathbb{R}^{n(N-1) \\times {(n+m)(N-1)}}$:\n",
    "$$ C = \\begin{bmatrix} B_1 & -I & \\ldots & \\ldots &  \\ldots & \\ldots & 0 \\\\\n",
    "                        0  &  A_2 & B_2  &  -I    & \\ldots & \\ldots & 0 \\\\\n",
    "                        \\vdots  & \\ddots & \\ddots  &  \\ddots   & \\vdots & \\vdots & \\vdots \\\\\n",
    "                        0  &  0.  &  0   &   \\ldots    &  A_{N-1}    &  B_{N-1}     &   -I \n",
    "\\end{bmatrix} \\tag{9}$$\n",
    "定义向量$d \\in \\mathbb{R}^{(N-1)n \\times 1}$:\n",
    "$$ \n",
    "d = \\begin{bmatrix} -A_1x_1  \\\\\n",
    "                 0       \\\\\n",
    "                 \\vdots  \\\\\n",
    "                 0\n",
    "\\end{bmatrix}\n",
    "\\tag{10}\n",
    "$$\n",
    "\n",
    "因此，可以将(3)中的LQR问题可以写成：\n",
    "$$ \\begin{equation}\n",
    "\\operatorname*{arg min}_{z\\in Z} \\frac{1}{2}z^T H z  \\\\\n",
    " \\quad \\text{subject to} \\quad Cz-d = 0\n",
    "\\end{equation}\n",
    "\\tag{11}\n",
    "$$\n",
    "(11)是一个QP问题 $H \\geq 0$，并且只有等式约束。"
   ]
  },
  {
   "cell_type": "markdown",
   "id": "3e70d827",
   "metadata": {},
   "source": [
    "(11)的拉格朗日函数可以写作：\n",
    "$$ L(z, \\lambda) = \\frac{1}{2}z^T H z + \\lambda^T (Cz - d) , \\lambda \\in \\mathbb{R}^{n{(N-1)} \\times 1} \\tag{12}$$"
   ]
  },
  {
   "cell_type": "markdown",
   "id": "fb546c23",
   "metadata": {},
   "source": [
    "从(12)可以得知，（11）的KKT条件为：\n",
    "$$\\begin{align}\n",
    "Hz + C^T \\lambda &= 0 \\\\\n",
    "Cz-d &= 0\n",
    "\\end{align} \\tag{13}$$"
   ]
  },
  {
   "cell_type": "markdown",
   "id": "7d7ca144",
   "metadata": {},
   "source": [
    "KKT系统可以写作：\n",
    "$$\\begin{bmatrix} H & C^T \\\\ C & 0\\end{bmatrix} \\begin{bmatrix}  z \\\\ \\lambda\\end{bmatrix} = \\begin{bmatrix} 0 \\\\ d\\end{bmatrix} \\tag{14}$$"
   ]
  },
  {
   "cell_type": "markdown",
   "id": "bd1e5111",
   "metadata": {},
   "source": [
    "因此，可以解析的写出(11)的最优解，并且一定是全局最优解。"
   ]
  },
  {
   "cell_type": "markdown",
   "id": "2a6ab10b",
   "metadata": {},
   "source": [
    "## 3.1 Example：  LQR by QP\n",
    "同样求解（5）的LQR问题"
   ]
  },
  {
   "cell_type": "code",
   "execution_count": 7,
   "id": "fd9fa8ae",
   "metadata": {},
   "outputs": [
    {
     "name": "stdout",
     "output_type": "stream",
     "text": [
      "[[ 1.     0.1    0.005 -1.    -0.   ]\n",
      " [ 0.     1.     0.1   -0.    -1.   ]]\n"
     ]
    },
    {
     "data": {
      "image/png": "[encoded data removed]",
      "text/plain": [
       "<Figure size 432x288 with 1 Axes>"
      ]
     },
     "metadata": {
      "needs_background": "light"
     },
     "output_type": "display_data"
    },
    {
     "data": {
      "image/png": "[encoded data removed]",
      "text/plain": [
       "<Figure size 432x288 with 1 Axes>"
      ]
     },
     "metadata": {
      "needs_background": "light"
     },
     "output_type": "display_data"
    },
    {
     "data": {
      "image/png": "[encoded data removed]",
      "text/plain": [
       "<Figure size 432x288 with 1 Axes>"
      ]
     },
     "metadata": {
      "needs_background": "light"
     },
     "output_type": "display_data"
    }
   ],
   "source": [
    "import numpy as np\n",
    "\n",
    "h_size = (n + m) * (N - 1)\n",
    "H = np.zeros((h_size, h_size))\n",
    "# 填充对角块\n",
    "block_size = len(Q) + 1  # 对角块的大小, 1为R的大小\n",
    "block_matrix = np.zeros((block_size, block_size))\n",
    "block_matrix[:1, :1] = R\n",
    "block_matrix[1:, 1:] = Q\n",
    "num_blocks =  h_size // block_size  # 块的数量\n",
    "# H matrix\n",
    "for i in range(num_blocks):\n",
    "    H[i*block_size:(i+1)*block_size, i*block_size:(i+1)*block_size] = block_matrix\n",
    "H[h_size - Qn.shape[0]: h_size, h_size - Qn.shape[1]: h_size] = Qn\n",
    "\n",
    "c_block = np.block([A, B.reshape(-1,1), -np.eye(n)])\n",
    "c_block_rows = c_block.shape[0]\n",
    "c_block_cols = c_block.shape[1]\n",
    "print(c_block)\n",
    "\n",
    "C = np.zeros(((N - 1) * n, (N - 1)*(m+n)))\n",
    "c_block_num = C.shape[0] // c_block_rows\n",
    "col_begin = 1\n",
    "for i in range(c_block_num):\n",
    "    if i == 0:\n",
    "        C[0:2, 0:3] = np.block([B.reshape(-1, 1), -np.eye(n)])\n",
    "    else:\n",
    "        row_begin = i * c_block_rows \n",
    "        row_end = row_begin+c_block_rows - 1\n",
    "        col_end = col_begin + c_block_cols - 1\n",
    "        C[row_begin:row_end+1, col_begin:col_end+1] = c_block\n",
    "        col_begin = col_begin + n + m        \n",
    "\n",
    "# kkt matrix\n",
    "d = np.zeros((n*(N-1)))\n",
    "d[0:2] = -np.dot(A, x0)\n",
    "KKT = np.block([[H, C.T], [C, np.zeros((C.shape[0], C.shape[0]))]])\n",
    "augment_d = np.zeros((2*n+m)*(N-1))\n",
    "augment_d[(n+m)*(N-1):] = d\n",
    "solve = np.dot(np.linalg.inv(KKT), augment_d)\n",
    "# print(solve)\n",
    "x_opt = np.zeros((N, n))\n",
    "x_opt[0] = x0\n",
    "u_opt = np.zeros((N-1, m))\n",
    "z_opt = solve[0:(m + n)*(N-1)]\n",
    "lambda_opt = solve[(m + n)*(N-1):]\n",
    "z_opt_new = z_opt.reshape(-1, n+m)\n",
    "for i in range(len(z_opt_new)):\n",
    "    u_opt[i] = z_opt_new[i,0]\n",
    "    x_opt[i+1] =z_opt_new[i][1:] \n",
    "plt.plot(thist, x_opt[:,0], label=r'$x$' )\n",
    "plt.plot(thist, x_opt[:,1], label=r'$\\dot{x}$' )\n",
    "plt.xlabel(r'$t(s)$')\n",
    "plt.ylabel(r'$x \\dot{x}$')\n",
    "\n",
    "plt.legend()\n",
    "plt.show()\n",
    "plt.plot(thist[:N-1], u_opt, label=r'$u$')\n",
    "plt.xlabel(r'$t(s)$')\n",
    "plt.ylabel(r'$u(t)$')\n",
    "plt.show()\n",
    "\n",
    "plt.plot(x_opt[:,0], x_opt[:, 1])\n",
    "plt.xlabel(r'$x$')\n",
    "plt.ylabel(r'$\\dot{x}$')\n",
    "\n",
    "plt.show()\n",
    "        "
   ]
  },
  {
   "cell_type": "markdown",
   "id": "f1fcefcb",
   "metadata": {},
   "source": [
    "# 4. LQR问题的Ricatti解法\n",
    "\n",
    "在Zach的课程中，Ricatti方程是从QP问题中深入挖掘出来的，最后得到Riccati方程，不仅能得到从0到N时刻的状态值，也能得到0-N时刻的控制输入，重要的是，得到了一个反馈控制率。\n",
    "我们不按照Zach的方法来推导Ricatti方程，而是从LQR问题本身出发，来一步一步推导Ricatti方程。回顾离散LQR问题（3）：\n",
    "$$\\begin{align} \\operatorname*{arg min}_{x \\in X, u \\in U} J(x, u) &=\\operatorname*{arg min}_{x \\in X, u \\in U} \\sum_{k=0}^{N-1}(\\frac{1}{2}x_k^TQx_k + \\frac{1}{2}u_k^TRu_k) + \\frac{1}{2} x_N^TQ_Nx_N \\\\  \\quad \\text{subject to} \\quad x_{k+1} &= A_dx_k + B_du_k, k = 0, \\ldots, N-1 \\end{align}$$\n"
   ]
  },
  {
   "cell_type": "markdown",
   "id": "7c0dce43",
   "metadata": {},
   "source": [
    "在$t_N$时刻的代价为：\n",
    "$$\n",
    "J_{N} = \\frac{1}{2} x_N^TQ_Nx_N\n",
    "$$"
   ]
  },
  {
   "cell_type": "markdown",
   "id": "cb3ea1e8",
   "metadata": {},
   "source": [
    "LQR问题的目标就是找到一个控制序列$u=[u_0, u_1, \\ldots, u_{N-1}]^T$, 这个控制序列使得代价函数全局最优。"
   ]
  },
  {
   "cell_type": "markdown",
   "id": "9a8c5bd7",
   "metadata": {},
   "source": [
    "在$t_{N-1}$到$t_{N}$区间的代价为\n",
    "$$\n",
    " J_{N-1:N} = \\frac{1}{2}(x_{N-1}^{T}Q_{N-1}x_{N-1} + u_{N-1}^{T}R_{N-1}u_{N-1}) + \\frac{1}{2} {x_N^{T}} Q_Nx_N\n",
    "$$"
   ]
  },
  {
   "cell_type": "markdown",
   "id": "9207a500",
   "metadata": {},
   "source": [
    "上面公式的最优解成立，根据一阶必要性条件，可以得到\n"
   ]
  },
  {
   "cell_type": "markdown",
   "id": "86f52934",
   "metadata": {},
   "source": [
    "$$\n",
    "\\frac{\\partial{J_{N-1:N}}}{\\partial{u_{N-1}}} = \\frac{1}{2}\\frac{\\partial (x_{N-1}^{T}Q_{N-1}x_{N-1} + u_{N-1}^{T}R_{N-1}u_{N-1})}{\\partial{u_{N-1}}} +\\frac{1}{2} \\frac{\\partial{x_N^T Q_Nx_N }}{\\partial{u_{N-1}}} = 0\n",
    "$$\n",
    "\n"
   ]
  },
  {
   "cell_type": "markdown",
   "id": "b080c764",
   "metadata": {},
   "source": [
    "因此可得到：\n",
    "$$ \\begin{align}\n",
    "& R_{N-1}u_{N-1} + \\frac{1}{2} \\frac{\\partial x_N^TQ_Nx_N}{\\partial x_N} \\frac{\\partial x_N}{\\partial u_{N-1}}= 0 \\\\\n",
    "& \\Rightarrow R_{N-1}u_{N-1} + B^T Q_N x_N= 0 \\\\\n",
    "& \\Rightarrow B^TQ_N(Ax_{N-1} + Bu_{N-1}) + R_{N-1}u_{N-1}=0 \\\\\n",
    "& \\Rightarrow B^TQ_NAx_{N-1} = -(B^TQ_NB + R_{N-1})u_{N-1} \\\\\n",
    "& \\Rightarrow u_{N-1}^* = -(B^TQ_NB + R_{N-1})^{-1}B^TQ_NAx_{N-1} \n",
    "\\end{align}\n",
    "$$"
   ]
  },
  {
   "cell_type": "markdown",
   "id": "d1ff12fd",
   "metadata": {},
   "source": [
    "令 $P_0=Q_N$ , $F_{N-1} = (B^TP_0B + R_{N-1})^{-1}B^TP_0A$, 可以将$F_{N-1}$看成反馈控制增益\n",
    "\n",
    "因此： \n",
    "$$ \\begin{align}\n",
    "& u_{N-1}^* = -(B^TP_0B + R_{N-1})^{-1}B^TP_0Ax_{N-1} \\\\\n",
    "& u^*_{N-1}=-F_{N-1}x_{N-1}\n",
    "\\end{align} \\tag{15}$$"
   ]
  },
  {
   "cell_type": "markdown",
   "id": "f067b872",
   "metadata": {},
   "source": [
    "Hessian矩阵 $H = \\frac{\\partial^2 J_{N-1:N}^*}{\\partial u_{N-1}^2} = R_{N-1}^T + (B^TP_0B)^T >0$ \\\n",
    "Hessian矩阵正定，因此是最优解\n"
   ]
  },
  {
   "cell_type": "markdown",
   "id": "14a2369e",
   "metadata": {},
   "source": [
    "所以  $J_{N-1:N}^* = \\frac{1}{2} (x_{N-1}^TQ_{N-1}x_{N-1} + x_{N-1}^TF_{N-1}^TQ_{N-1}F_{N-1}x_{N-1})$ "
   ]
  },
  {
   "cell_type": "markdown",
   "id": "a745c2f3",
   "metadata": {},
   "source": [
    "令$P_1 = Q_{N-1} +F_{N-1}^TR_{N-1}F_{N-1}  + (A-F_{N-1}B)^TP_0(A-F_{N-1}B)$:\n",
    "$$\\begin{align} J_{N-1:N}^* &= \\frac{1}{2} (x_{N-1}^TQ_{N-1}x_{N-1} + x_{N-1}^TF_{N-1}^TR_{N-1}F_{N-1}x_{N-1} + x_{N-1}^T(A-F_{N-1}B)^T P_0 (A-F_{N-1}B)x_{N-1}) \\\\ \\Rightarrow J_{N-1:N}^* &= \\frac{1}{2} x_{N-1}\\left[Q_{N-1} +F_{N-1}^TR_{N-1}F_{N-1} + (A-F_{N-1}B)^TP_0(A-F_{N-1}B) \\right]\n",
    " x_{N-1} \\\\\n",
    "\\Rightarrow J_{N-1:N}^* &= \\frac{1}{2} x_{N-1}^TP_1x_{N-1}\n",
    "\\end{align}$$"
   ]
  },
  {
   "cell_type": "markdown",
   "id": "37d29232",
   "metadata": {},
   "source": [
    "$$\\begin{align}\n",
    "J_{N-2:N} &= J_{N-2:N-1} + J_{N-1:N} = \\frac{1}{2} \\left(x_{N-2}^TQ_{N-2}x_{N-2} +u_{N-2}^T R_{N-2}u_{N-2} \\right) + J_{N-1:N} \\\\\n",
    "\\frac{\\partial J_{N-2:N}}{\\partial u_{k-2}} &= R_{N-2}u_{N-2} + B^TP_1x_{N-2} = 0\n",
    "\\end{align}\n",
    "$$"
   ]
  },
  {
   "cell_type": "markdown",
   "id": "6b966093",
   "metadata": {},
   "source": [
    "令  $F_{N-2} = (B^T P_1 B + R_{N-2})^{-1} B^T P_1 A$\n",
    "$$ \\begin{align}u^*_{N-2}  &= -(B^T P_1 B + R_{N-2})^{-1} B^T P_1 A x_{N-2} \\\\\n",
    " u^*_{N-2}  &= -F_{N-2} x_{N-2}\n",
    " \\end{align}$$"
   ]
  },
  {
   "cell_type": "markdown",
   "id": "7bd48331",
   "metadata": {},
   "source": [
    "$$\n",
    "J_{N-2:N}^* = \\frac{1}{2}x_{N-2} \\left[Q_{N-2} + F_{N-2}^TR_{N-2}F_{N-2}+(A-BF_{N-2})^T  P_{1}(A-BF_{N-2})  \\right]x_{N-2}\n",
    "$$"
   ]
  },
  {
   "cell_type": "markdown",
   "id": "4a4b89ea",
   "metadata": {},
   "source": [
    "令 $P_{2} = Q_{N-2} + F_{N-2}^TR_{N-2}F_{N-2} +(A-BF_{N-2})^T  P_{1}(A-BF_{N-2}) $"
   ]
  },
  {
   "cell_type": "markdown",
   "id": "42802ab9",
   "metadata": {},
   "source": [
    "可以看出来，上面是同样的迭代格式。因此总结Ricatti方程为：\n",
    "$$ \\begin{align}\n",
    "P_0&=Q_N \\\\ \n",
    "F_{N-1} &= (B^TP_0B + R_{N-1})^{-1}B^TP_0A \\\\\n",
    "P_1 &= Q_{N-1} +F_{N-1}^TR_{N-1}F_{N-1}  + (A-BF_{N-1})^TP_0(A-BF_{N-1}) \\\\\n",
    "F_{N-2} &= (B^T P_1 B + R_{N-2})^{-1} B^T P_1 A \\\\\n",
    "P_{2} &= Q_{N-2} + F_{N-2}^TR_{N-2}F_{N-2} +(A-BF_{N-2})^T  P_{1}(A-BF_{N-2}) \\\\\n",
    "\\vdots \n",
    "\\end{align}\n",
    "$$"
   ]
  },
  {
   "cell_type": "markdown",
   "id": "204f85f3",
   "metadata": {},
   "source": [
    "可以用迭代的方式求解Ricatti, 得到$P_{0}$, 从而得到反馈控制率$F_{N}$"
   ]
  },
  {
   "cell_type": "markdown",
   "id": "7a0c936a",
   "metadata": {},
   "source": [
    "## 4.1 Ricatti方程求解LQR问题\n"
   ]
  },
  {
   "cell_type": "code",
   "execution_count": 11,
   "id": "68a9c256",
   "metadata": {},
   "outputs": [
    {
     "name": "stdout",
     "output_type": "stream",
     "text": [
      "size=77\n",
      "K = [2.5856999  3.44343558]\n"
     ]
    },
    {
     "data": {
      "image/png": "[encoded data removed]",
      "text/plain": [
       "<Figure size 432x288 with 1 Axes>"
      ]
     },
     "metadata": {
      "needs_background": "light"
     },
     "output_type": "display_data"
    },
    {
     "data": {
      "image/png": "[encoded data removed]",
      "text/plain": [
       "<Figure size 432x288 with 1 Axes>"
      ]
     },
     "metadata": {
      "needs_background": "light"
     },
     "output_type": "display_data"
    },
    {
     "data": {
      "text/plain": [
       "Text(0, 0.5, '$\\\\dot{x}$')"
      ]
     },
     "execution_count": 11,
     "metadata": {},
     "output_type": "execute_result"
    },
    {
     "data": {
      "image/png": "[encoded data removed]",
      "text/plain": [
       "<Figure size 432x288 with 1 Axes>"
      ]
     },
     "metadata": {
      "needs_background": "light"
     },
     "output_type": "display_data"
    }
   ],
   "source": [
    "def ricatti_lqr(Q, R, Qn, tol=1e-6, max_iter=10000):\n",
    "    P = Qn\n",
    "  \n",
    "    K = []\n",
    "    error = 1e3\n",
    "    for iter in range(max_iter):\n",
    "        F = 1.0 / (R + np.dot(np.dot(B.T,P), B)).T *  np.dot(np.dot(B, P) , A)\n",
    "        Pnew = Q + R * np.outer(F,F) + np.dot(np.dot((A - np.outer(B, F)).T, P), (A - np.outer(B, F)))\n",
    "        K.append(F)\n",
    "        error = np.linalg.norm(Pnew-P)\n",
    "        P = Pnew\n",
    "        if error < tol:\n",
    "            break\n",
    "            \n",
    "    return K\n",
    "\n",
    "feedback_gain = ricatti_lqr(Q, R, Qn)\n",
    "x_hist = np.zeros((N, n))\n",
    "x_hist[0] = x0\n",
    "uhist = np.zeros((N-1,m))\n",
    "K = feedback_gain[-1]\n",
    "print('size={}'.format(len(feedback_gain)))\n",
    "print('K = {}'.format(K))\n",
    "for i in range(N - 1):\n",
    "    uhist[i] = -np.dot(K, x_hist[i])\n",
    "    x_hist[i+1] = np.dot(A, x_hist[i]) + B * uhist[i]\n",
    "# print(x_hist)     \n",
    "plt.plot(thist, x_hist)\n",
    "plt.show()\n",
    "plt.plot(thist[:N-1], uhist)\n",
    "plt.show()\n",
    "plt.plot(x_hist[:,0], x_hist[:, 1])\n",
    "plt.xlabel(r'$x$')\n",
    "plt.ylabel(r'$\\dot{x}$')\n",
    "   "
   ]
  },
  {
   "cell_type": "markdown",
   "id": "9ced4e72",
   "metadata": {},
   "source": [
    "# LQR的能控性"
   ]
  },
  {
   "cell_type": "markdown",
   "id": "f0780447",
   "metadata": {},
   "source": [
    "现在从状态空间方程出发，\\\n",
    "当$k=0$: $x_1 = Ax_0 + Bu_0 $ \\\n",
    "当$k=1$: $x_2 = Ax_1 + Bu_1 = A(Ax_0 + Bu_0) + Bu_1 = A^2x_0 + ABu_0 + Bu_1 $ \\\n",
    "当$k=2$: $x_3 = Ax_2 + Bu_2 = A(Ax_1 + Bu_1) + Bu_2 =   A(A^2x_0 + ABu_0 + Bu_1) + Bu_2 = A^3x_0 + A^2Bu_0 + ABu_1 + Bu_2 $ \\\n",
    "...\\\n",
    "当$k=N$: $x_N = A^Nx_0 + A^{N-1}Bu_0 + A^{N-2}Bu_1+\\ldots + Bu_{N-1} $"
   ]
  },
  {
   "cell_type": "markdown",
   "id": "ae516c96",
   "metadata": {},
   "source": []
  },
  {
   "cell_type": "code",
   "execution_count": null,
   "id": "d5d1e702",
   "metadata": {},
   "outputs": [],
   "source": []
  }
 ],
 "metadata": {
  "kernelspec": {
   "display_name": "Python 3",
   "language": "python",
   "name": "python3"
  },
  "language_info": {
   "codemirror_mode": {
    "name": "ipython",
    "version": 3
   },
   "file_extension": ".py",
   "mimetype": "text/x-python",
   "name": "python",
   "nbconvert_exporter": "python",
   "pygments_lexer": "ipython3",
   "version": "3.8.8"
  }
 },
 "nbformat": 4,
 "nbformat_minor": 5
}
